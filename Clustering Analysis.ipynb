{
 "cells": [
  {
   "cell_type": "code",
   "execution_count": 1,
   "metadata": {},
   "outputs": [],
   "source": [
    "import pandas as pd\n",
    "import numpy as np\n",
    "from sklearn import datasets\n",
    "from sklearn.metrics import calinski_harabaz_score\n",
    "iris=datasets.load_iris()"
   ]
  },
  {
   "cell_type": "code",
   "execution_count": 2,
   "metadata": {},
   "outputs": [],
   "source": [
    "X=iris.data\n",
    "Y=iris.target"
   ]
  },
  {
   "cell_type": "code",
   "execution_count": 3,
   "metadata": {},
   "outputs": [],
   "source": [
    "Y=Y.reshape(len(Y),1)\n",
    "iris0=np.hstack((X,Y))\n",
    "np.random.shuffle(iris0)\n",
    "X=iris0[:,0:4]\n",
    "Y=iris0[:,4]"
   ]
  },
  {
   "cell_type": "code",
   "execution_count": 4,
   "metadata": {},
   "outputs": [
    {
     "name": "stdout",
     "output_type": "stream",
     "text": [
      "560.3999242466404\n"
     ]
    }
   ],
   "source": [
    "from sklearn.cluster import KMeans\n",
    "y_kmeans = KMeans(n_clusters=3).fit_predict(X)\n",
    "print(calinski_harabaz_score(X,y_kmeans)) #输出CH分数"
   ]
  },
  {
   "cell_type": "code",
   "execution_count": 5,
   "metadata": {},
   "outputs": [],
   "source": [
    "from sklearn.mixture import GaussianMixture\n",
    "gmm=GaussianMixture(n_components=3).fit(X)"
   ]
  },
  {
   "cell_type": "code",
   "execution_count": 6,
   "metadata": {},
   "outputs": [
    {
     "name": "stdout",
     "output_type": "stream",
     "text": [
      "480.7861538097308\n"
     ]
    }
   ],
   "source": [
    "y_em = gmm.predict(X)\n",
    "print(calinski_harabaz_score(X,y_em)) #输出CH分数"
   ]
  },
  {
   "cell_type": "code",
   "execution_count": 7,
   "metadata": {},
   "outputs": [
    {
     "name": "stdout",
     "output_type": "stream",
     "text": [
      "558.9161734204381\n"
     ]
    }
   ],
   "source": [
    "from sklearn.cluster import SpectralClustering\n",
    "y_spectral = SpectralClustering(n_clusters=3).fit_predict(X)\n",
    "print(calinski_harabaz_score(X,y_spectral)) #输出CH分数"
   ]
  },
  {
   "cell_type": "code",
   "execution_count": 8,
   "metadata": {},
   "outputs": [],
   "source": [
    "index = np.arange(0,len(Y))"
   ]
  },
  {
   "cell_type": "code",
   "execution_count": 9,
   "metadata": {},
   "outputs": [
    {
     "name": "stdout",
     "output_type": "stream",
     "text": [
      "[0. 1. 2. 0. 2. 0. 1. 0. 1. 2. 0. 0. 0. 2. 2. 1. 0. 2. 2. 2. 2. 1. 2. 0.\n",
      " 2. 0. 0. 1. 2. 2. 2. 2. 2. 1. 1. 0. 2. 1. 1. 1. 1. 0. 2. 2. 2. 0. 1. 2.\n",
      " 2. 0. 1. 1. 1. 1. 1. 1. 2. 1. 0. 1. 1. 2. 1. 1. 1. 2. 1. 2. 0. 1. 2. 1.\n",
      " 1. 0. 0. 2. 2. 2. 0. 1. 0. 2. 1. 1. 0. 2. 1. 0. 1. 2. 1. 2. 2. 2. 2. 0.\n",
      " 0. 1. 0. 1. 0. 2. 0. 1. 0. 0. 2. 0. 0. 0. 1. 0. 0. 1. 0. 0. 2. 0. 0. 2.\n",
      " 0. 0. 1. 2. 0. 1. 1. 1. 2. 0. 2. 0. 2. 2. 2. 1. 2. 1. 1. 2. 1. 1. 0. 0.\n",
      " 0. 0. 2. 0. 1. 0.]\n"
     ]
    }
   ],
   "source": [
    "c1=[]\n",
    "c2=[]\n",
    "c3=[]\n",
    "y=np.zeros(150)\n",
    "for i in index:\n",
    "    if Y[i]!=Y[0]:\n",
    "        k=i\n",
    "        break\n",
    "for i in index:\n",
    "    if Y[i]==Y[0]:\n",
    "        c1.append(i)\n",
    "    elif Y[i]==Y[k]:\n",
    "        c2.append(i)\n",
    "    else:\n",
    "        c3.append(i)\n",
    "\n",
    "for i in c1:\n",
    "    y[i]=0\n",
    "for i in c2:\n",
    "    y[i]=1\n",
    "for i in c3:\n",
    "    y[i]=2\n",
    "print(y)"
   ]
  },
  {
   "cell_type": "code",
   "execution_count": 10,
   "metadata": {},
   "outputs": [
    {
     "name": "stdout",
     "output_type": "stream",
     "text": [
      "[0 1 2 0 0 0 1 0 1 2 0 0 0 2 0 1 0 2 2 2 2 1 2 0 2 0 0 1 2 2 0 2 0 1 1 0 0\n",
      " 1 1 1 1 0 2 2 0 0 1 2 2 0 1 1 1 1 1 1 0 1 0 1 1 2 1 1 1 2 1 2 0 1 0 1 1 0\n",
      " 0 0 2 2 0 1 0 0 1 1 0 2 1 0 1 2 1 2 0 2 0 0 0 1 2 1 0 2 0 1 0 0 2 0 0 2 1\n",
      " 0 0 1 0 0 2 0 0 2 0 0 1 2 0 1 1 1 0 0 2 0 2 2 2 1 2 1 1 0 1 1 0 0 0 0 2 0\n",
      " 1 0]\n"
     ]
    }
   ],
   "source": [
    "c1=[]\n",
    "c2=[]\n",
    "c3=[]\n",
    "\n",
    "for i in index:\n",
    "    if y_kmeans[i]!=y_kmeans[0]:\n",
    "        k=i\n",
    "        break\n",
    "for i in index:\n",
    "    if y_kmeans[i]==y_kmeans[0]:\n",
    "        c1.append(i)\n",
    "    elif y_kmeans[i]==y_kmeans[k]:\n",
    "        c2.append(i)\n",
    "    else:\n",
    "        c3.append(i)\n",
    "\n",
    "for i in c1:\n",
    "    y_kmeans[i]=0\n",
    "for i in c2:\n",
    "    y_kmeans[i]=1\n",
    "for i in c3:\n",
    "    y_kmeans[i]=2\n",
    "print(y_kmeans)"
   ]
  },
  {
   "cell_type": "code",
   "execution_count": 11,
   "metadata": {},
   "outputs": [
    {
     "name": "stdout",
     "output_type": "stream",
     "text": [
      "[0 1 2 0 2 0 1 0 1 2 0 0 0 2 2 1 0 2 2 2 2 1 2 0 2 0 0 1 2 2 2 2 2 1 1 0 2\n",
      " 1 1 1 1 0 2 2 2 0 1 2 2 0 1 1 1 1 1 1 2 1 0 1 1 2 1 1 1 2 1 2 0 1 2 1 1 0\n",
      " 0 2 2 2 0 1 0 2 1 1 0 2 1 0 1 2 1 2 2 2 2 0 2 1 2 1 0 2 2 1 0 0 2 0 0 0 1\n",
      " 2 0 1 0 0 2 0 0 2 2 0 1 2 0 1 1 1 2 0 2 0 2 2 2 1 2 1 1 2 1 1 0 0 0 0 2 0\n",
      " 1 0]\n"
     ]
    }
   ],
   "source": [
    "c1=[]\n",
    "c2=[]\n",
    "c3=[]\n",
    "\n",
    "for i in index:\n",
    "    if y_em[i]!=y_em[0]:\n",
    "        k=i\n",
    "        break\n",
    "for i in index:\n",
    "    if y_em[i]==y_em[0]:\n",
    "        c1.append(i)\n",
    "    elif y_em[i]==y_em[k]:\n",
    "        c2.append(i)\n",
    "    else:\n",
    "        c3.append(i)\n",
    "\n",
    "for i in c1:\n",
    "    y_em[i]=0\n",
    "for i in c2:\n",
    "    y_em[i]=1\n",
    "for i in c3:\n",
    "    y_em[i]=2\n",
    "print(y_em)"
   ]
  },
  {
   "cell_type": "code",
   "execution_count": 12,
   "metadata": {},
   "outputs": [
    {
     "name": "stdout",
     "output_type": "stream",
     "text": [
      "[0 1 2 0 0 0 1 0 1 2 0 0 0 2 0 1 0 2 2 2 2 1 2 0 2 0 0 1 2 2 0 2 0 1 1 0 0\n",
      " 1 1 1 1 0 2 2 0 0 1 2 2 0 1 1 1 1 1 1 0 1 0 1 1 2 1 1 1 2 1 2 0 1 0 1 1 0\n",
      " 0 0 2 2 0 1 0 0 1 1 0 2 1 0 1 2 1 2 2 2 0 0 0 1 2 1 0 2 0 1 0 0 2 0 0 2 1\n",
      " 0 0 1 0 0 2 0 0 2 0 0 1 2 0 1 1 1 0 0 2 0 2 2 2 1 2 1 1 0 1 1 0 0 0 0 2 0\n",
      " 1 0]\n"
     ]
    }
   ],
   "source": [
    "c1=[]\n",
    "c2=[]\n",
    "c3=[]\n",
    "\n",
    "for i in index:\n",
    "    if y_spectral[i]!=y_spectral[0]:\n",
    "        k=i\n",
    "        break\n",
    "for i in index:\n",
    "    if y_spectral[i]==y_spectral[0]:\n",
    "        c1.append(i)\n",
    "    elif y_spectral[i]==y_spectral[k]:\n",
    "        c2.append(i)\n",
    "    else:\n",
    "        c3.append(i)\n",
    "        \n",
    "for i in c1:\n",
    "    y_spectral[i]=0\n",
    "for i in c2:\n",
    "    y_spectral[i]=1\n",
    "for i in c3:\n",
    "    y_spectral[i]=2\n",
    "print(y_spectral)"
   ]
  },
  {
   "cell_type": "code",
   "execution_count": 13,
   "metadata": {},
   "outputs": [
    {
     "name": "stdout",
     "output_type": "stream",
     "text": [
      "0.8933333333333333\n",
      "0.9666666666666667\n",
      "0.9\n"
     ]
    }
   ],
   "source": [
    "from sklearn.metrics import accuracy_score\n",
    "#输出准确率\n",
    "print(accuracy_score(y, y_kmeans)) \n",
    "print(accuracy_score(y, y_em)) \n",
    "print(accuracy_score(y, y_spectral)) \n"
   ]
  },
  {
   "cell_type": "code",
   "execution_count": 14,
   "metadata": {},
   "outputs": [],
   "source": []
  },
  {
   "cell_type": "code",
   "execution_count": null,
   "metadata": {},
   "outputs": [],
   "source": []
  }
 ],
 "metadata": {
  "kernelspec": {
   "display_name": "Python 3",
   "language": "python",
   "name": "python3"
  },
  "language_info": {
   "codemirror_mode": {
    "name": "ipython",
    "version": 3
   },
   "file_extension": ".py",
   "mimetype": "text/x-python",
   "name": "python",
   "nbconvert_exporter": "python",
   "pygments_lexer": "ipython3",
   "version": "3.6.5"
  },
  "tianchi_metadata": {
   "competitions": [],
   "datasets": [],
   "description": "",
   "notebookId": "37100",
   "source": "ailab"
  }
 },
 "nbformat": 4,
 "nbformat_minor": 4
}
